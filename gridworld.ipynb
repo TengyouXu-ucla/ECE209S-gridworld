{
 "cells": [
  {
   "cell_type": "code",
   "execution_count": 1,
   "metadata": {},
   "outputs": [
    {
     "data": {
      "text/plain": [
       "[state(label='A', x=0, y=0),\n",
       " state(label='B', x=1, y=0),\n",
       " state(label='C', x=2, y=0),\n",
       " state(label='D', x=3, y=0),\n",
       " state(label='E', x=4, y=0),\n",
       " state(label='F', x=0, y=1),\n",
       " state(label='G', x=1, y=1),\n",
       " state(label='H', x=2, y=1),\n",
       " state(label='I', x=3, y=1),\n",
       " state(label='J', x=4, y=1),\n",
       " state(label='K', x=0, y=2),\n",
       " state(label='L', x=1, y=2),\n",
       " obstacle(label='M', x=2, y=2),\n",
       " destination(label='N', x=3, y=2, destination_type='ice cream shop'),\n",
       " state(label='O', x=4, y=2),\n",
       " state(label='P', x=0, y=3),\n",
       " state(label='Q', x=1, y=3),\n",
       " obstacle(label='R', x=2, y=3),\n",
       " state(label='S', x=3, y=3),\n",
       " state(label='T', x=4, y=3),\n",
       " state(label='U', x=0, y=4),\n",
       " state(label='V', x=1, y=4),\n",
       " state(label='W', x=2, y=4),\n",
       " state(label='X', x=3, y=4),\n",
       " state(label='Y', x=4, y=4)]"
      ]
     },
     "execution_count": 1,
     "metadata": {},
     "output_type": "execute_result"
    }
   ],
   "source": [
    "from gridworld import gridworld\n",
    "\n",
    "world = gridworld((5,5),(1,1),[(3,2)],[(2,2),(2,3)],[])\n",
    "world.states"
   ]
  }
 ],
 "metadata": {
  "kernelspec": {
   "display_name": "davi_env",
   "language": "python",
   "name": "python3"
  },
  "language_info": {
   "codemirror_mode": {
    "name": "ipython",
    "version": 3
   },
   "file_extension": ".py",
   "mimetype": "text/x-python",
   "name": "python",
   "nbconvert_exporter": "python",
   "pygments_lexer": "ipython3",
   "version": "3.9.18"
  }
 },
 "nbformat": 4,
 "nbformat_minor": 2
}
